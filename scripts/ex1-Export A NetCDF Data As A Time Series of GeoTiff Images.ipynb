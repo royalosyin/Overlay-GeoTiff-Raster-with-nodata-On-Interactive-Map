{
 "cells": [
  {
   "cell_type": "markdown",
   "metadata": {},
   "source": [
    "# ex1-Export A NetCDF Data As A Time Series of GeoTiff Images\n",
    "\n",
    "The command-line tool of [gdal_translate](https://gdal.org/programs/gdal_translate.html#gdal-translate) provided by GDAL should be the most commonly used option for converting raster data between different formats, while [CDO](https://code.mpimet.mpg.de/projects/cdo/) is another excellent command line suite for manipulating and analysing climate data. \n",
    "This time we will apply them to export each time slice from a NetCDF data as a single GeoTiff image(s). we still use the monthly mean sea level pressure of [mslp.mon.mean.nc](http://www.esrl.noaa.gov/psd/data/gridded/data.ncep.reanalysis2.surface.html) as an example.\n",
    "\n",
    "Before moving on, make sure you have GDAL and CDO installed on your computer or set up a new experimental environment using docker just like me. The following is my ***Dockerfile***."
   ]
  },
  {
   "cell_type": "code",
   "execution_count": null,
   "metadata": {},
   "outputs": [],
   "source": [
    "RG BASE_CONTAINER=andrejreznik/python-gdal:stable\n",
    "FROM $BASE_CONTAINER\n",
    "\n",
    "LABEL maintainer=\"chy@climsystems.com\"\n",
    "RUN apt-get update && apt-get install -y --no-install-recommends cdo && \\\n",
    "    rm -rf /var/lib/apt/lists/*"
   ]
  },
  {
   "cell_type": "markdown",
   "metadata": {},
   "source": [
    "## Check data information\n",
    "\n",
    "We can use [***gdalinfo***] or [***cdo info***]. Here we use gdalinfo as we mainly use gdal_translate to convert data formats."
   ]
  },
  {
   "cell_type": "code",
   "execution_count": null,
   "metadata": {},
   "outputs": [],
   "source": [
    "gdalinfo mslp.mon.mean.nc"
   ]
  },
  {
   "cell_type": "markdown",
   "metadata": {},
   "source": [
    "The above command will output much information on the computer screen, where we can find that each time slice has been seen as a single ***band***. We take the last band as an example. \n",
    "\n",
    "![img](img/gdalinfo.png)\n",
    "\n",
    "It is worth noting there are two extra parameters of ***scale_factor*** and ***add_offset***. According to [NetCDF Attribute Conventions](http://www.bic.mni.mcgill.ca/users/sean/Docs/netcdf/guide.txn_18.html):\n",
    "\n",
    "- scale_factor\n",
    "\n",
    "> If present for a variable, the data are to be multiplied by this factor after the data are read by the application that accesses the data.\n",
    "\n",
    "- add_offset\n",
    "\n",
    "> If present for a variable, this number is to be added to the data after it is read by the application that accesses the data. If both scale_factor and add_offset attributes are present, the data are first scaled before the offset is added. The attributes scale_factor and add_offset can be used together to provide simple data compression to store low-resolution floating-point data as small integers in a netCDF file. When scaled data are written, the application should first subtract the offset and then divide by the scale factor.\n",
    "\n",
    "When scale_factor and add_offset are used for packing, the associated variable (containing the packed data) is typically of type byte or short, whereas the unpacked values are intended to be of type float or double. The attributes scale_factor and add_offset should both be of the type intended for the unpacked data, e.g. float or double."
   ]
  },
  {
   "cell_type": "markdown",
   "metadata": {},
   "source": [
    "# Convert NetCDF to GeoTiff image(s)\n",
    "\n",
    "Keep in mind that the band number starts from ***1*** in gdal_translate. The command option of ***-unscale*** can be used to tell gdal_translate to apply the scale/offset metadata for the bands to convert scaled values to unscaled values. Then we can easily convert one band (or a time slice) of the NetCDF data into a geotiff format just use the command:"
   ]
  },
  {
   "cell_type": "code",
   "execution_count": null,
   "metadata": {},
   "outputs": [],
   "source": [
    "gdal_translate -ot Float64 NETCDF:mslp.mon.mean.nc:mslp -b 1 -unscale \"mslp_01.tif\""
   ]
  },
  {
   "cell_type": "markdown",
   "metadata": {},
   "source": [
    "However, we'd like to export all time slices with meaningful names such as ***mslp_yyyy-mm.tif***. Now it is show time for CDO. We can get all date-time information of the data using"
   ]
  },
  {
   "cell_type": "code",
   "execution_count": null,
   "metadata": {},
   "outputs": [],
   "source": [
    "cdo showdate mslp.mon.mean.nc"
   ]
  },
  {
   "cell_type": "markdown",
   "metadata": {},
   "source": [
    "The output looks like\n",
    "![dates](img/cdoshowdate.png)"
   ]
  },
  {
   "cell_type": "markdown",
   "metadata": {},
   "source": [
    "Now I think you should already figure out how to finish the left task. Yes, put them into a bash script."
   ]
  },
  {
   "cell_type": "code",
   "execution_count": null,
   "metadata": {},
   "outputs": [],
   "source": [
    "#!/bin/bash\n",
    "\n",
    "infile=mslp.mon.mean.nc\n",
    "band=1\n",
    "for idate in $(cdo showdate $infile) \n",
    "do\n",
    "  echo $band\n",
    "  ym=\"${idate:0:7}\"\n",
    "  gdal_translate -ot Float64 NETCDF:$infile:mslp -b $band -unscale \"mslp_$ym.tif\"\n",
    "  ((band++))\n",
    "done\n",
    "echo All done"
   ]
  },
  {
   "cell_type": "markdown",
   "metadata": {},
   "source": [
    "Done! Congratulations! Now you already get a new option to Export Each Time Slice From A NetCDF Data As A Single Raster.\n",
    "\n",
    "![list](img/filelist.png)\n",
    "\n",
    "If you like other methods, you can refer this [python tutorial](https://www.linkedin.com/pulse/convert-netcdf4-file-geotiff-using-python-chonghua-yin/)."
   ]
  },
  {
   "cell_type": "markdown",
   "metadata": {},
   "source": [
    "## References\n",
    "\n",
    "https://code.mpimet.mpg.de/projects/cdo/\n",
    "\n",
    "https://gdal.org/programs/gdal_translate.html#gdal-translate\n",
    "\n",
    "NCEP-DOE AMIP-II Reanalysis (R-2): M. Kanamitsu, W. Ebisuzaki, J. Woollen, S-K Yang, J.J. Hnilo, M. Fiorino, and G. L. Potter. 1631-1643, Nov 2002, Bulletin of the American Meteorological Society."
   ]
  },
  {
   "cell_type": "code",
   "execution_count": null,
   "metadata": {},
   "outputs": [],
   "source": []
  }
 ],
 "metadata": {
  "kernelspec": {
   "display_name": "Python 3",
   "language": "python",
   "name": "python3"
  },
  "language_info": {
   "codemirror_mode": {
    "name": "ipython",
    "version": 3
   },
   "file_extension": ".py",
   "mimetype": "text/x-python",
   "name": "python",
   "nbconvert_exporter": "python",
   "pygments_lexer": "ipython3",
   "version": "3.7.3"
  }
 },
 "nbformat": 4,
 "nbformat_minor": 2
}
